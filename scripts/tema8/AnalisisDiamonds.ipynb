{
 "cells": [
  {
   "cell_type": "code",
   "execution_count": 304,
   "metadata": {},
   "outputs": [],
   "source": [
    "import matplotlib\n",
    "import matplotlib.pyplot as plt \n",
    "import numpy as np \n",
    "import seaborn as sns\n",
    "from plotnine.data import diamonds\n",
    "import pandas as pd\n",
    "from plotnine import *\n",
    "\n",
    "\n",
    "\n"
   ]
  },
  {
   "cell_type": "code",
   "execution_count": 305,
   "metadata": {},
   "outputs": [
    {
     "data": {
      "text/html": [
       "<div><div id=5cbaf624-e4b4-428f-8107-bac509ba6306 style=\"display:none; background-color:#9D6CFF; color:white; width:200px; height:30px; padding-left:5px; border-radius:4px; flex-direction:row; justify-content:space-around; align-items:center;\" onmouseover=\"this.style.backgroundColor='#BA9BF8'\" onmouseout=\"this.style.backgroundColor='#9D6CFF'\" onclick=\"window.commands?.execute('create-mitosheet-from-dataframe-output');\">See Full Dataframe in Mito</div> <script> if (window.commands.hasCommand('create-mitosheet-from-dataframe-output')) document.getElementById('5cbaf624-e4b4-428f-8107-bac509ba6306').style.display = 'flex' </script> <table border=\"1\" class=\"dataframe\">\n",
       "  <thead>\n",
       "    <tr style=\"text-align: right;\">\n",
       "      <th></th>\n",
       "      <th>carat</th>\n",
       "      <th>cut</th>\n",
       "      <th>color</th>\n",
       "      <th>clarity</th>\n",
       "      <th>depth</th>\n",
       "      <th>table</th>\n",
       "      <th>price</th>\n",
       "      <th>x</th>\n",
       "      <th>y</th>\n",
       "      <th>z</th>\n",
       "      <th>Gruoup</th>\n",
       "      <th>Group</th>\n",
       "    </tr>\n",
       "  </thead>\n",
       "  <tbody>\n",
       "    <tr>\n",
       "      <th>0</th>\n",
       "      <td>0.23</td>\n",
       "      <td>Ideal</td>\n",
       "      <td>E</td>\n",
       "      <td>SI2</td>\n",
       "      <td>61.5</td>\n",
       "      <td>55.0</td>\n",
       "      <td>326</td>\n",
       "      <td>3.95</td>\n",
       "      <td>3.98</td>\n",
       "      <td>2.43</td>\n",
       "      <td>(0.0, 0.5]</td>\n",
       "      <td>(0.0, 0.5]</td>\n",
       "    </tr>\n",
       "    <tr>\n",
       "      <th>1</th>\n",
       "      <td>0.21</td>\n",
       "      <td>Premium</td>\n",
       "      <td>E</td>\n",
       "      <td>SI1</td>\n",
       "      <td>59.8</td>\n",
       "      <td>61.0</td>\n",
       "      <td>326</td>\n",
       "      <td>3.89</td>\n",
       "      <td>3.84</td>\n",
       "      <td>2.31</td>\n",
       "      <td>(0.0, 0.5]</td>\n",
       "      <td>(0.0, 0.5]</td>\n",
       "    </tr>\n",
       "    <tr>\n",
       "      <th>2</th>\n",
       "      <td>0.23</td>\n",
       "      <td>Good</td>\n",
       "      <td>E</td>\n",
       "      <td>VS1</td>\n",
       "      <td>56.9</td>\n",
       "      <td>65.0</td>\n",
       "      <td>327</td>\n",
       "      <td>4.05</td>\n",
       "      <td>4.07</td>\n",
       "      <td>2.31</td>\n",
       "      <td>(0.0, 0.5]</td>\n",
       "      <td>(0.0, 0.5]</td>\n",
       "    </tr>\n",
       "    <tr>\n",
       "      <th>3</th>\n",
       "      <td>0.29</td>\n",
       "      <td>Premium</td>\n",
       "      <td>I</td>\n",
       "      <td>VS2</td>\n",
       "      <td>62.4</td>\n",
       "      <td>58.0</td>\n",
       "      <td>334</td>\n",
       "      <td>4.20</td>\n",
       "      <td>4.23</td>\n",
       "      <td>2.63</td>\n",
       "      <td>(0.0, 0.5]</td>\n",
       "      <td>(0.0, 0.5]</td>\n",
       "    </tr>\n",
       "    <tr>\n",
       "      <th>4</th>\n",
       "      <td>0.31</td>\n",
       "      <td>Good</td>\n",
       "      <td>J</td>\n",
       "      <td>SI2</td>\n",
       "      <td>63.3</td>\n",
       "      <td>58.0</td>\n",
       "      <td>335</td>\n",
       "      <td>4.34</td>\n",
       "      <td>4.35</td>\n",
       "      <td>2.75</td>\n",
       "      <td>(0.0, 0.5]</td>\n",
       "      <td>(0.0, 0.5]</td>\n",
       "    </tr>\n",
       "  </tbody>\n",
       "</table></div>"
      ],
      "text/plain": [
       "   carat      cut color clarity  depth  table  price     x     y     z  \\\n",
       "0   0.23    Ideal     E     SI2   61.5   55.0    326  3.95  3.98  2.43   \n",
       "1   0.21  Premium     E     SI1   59.8   61.0    326  3.89  3.84  2.31   \n",
       "2   0.23     Good     E     VS1   56.9   65.0    327  4.05  4.07  2.31   \n",
       "3   0.29  Premium     I     VS2   62.4   58.0    334  4.20  4.23  2.63   \n",
       "4   0.31     Good     J     SI2   63.3   58.0    335  4.34  4.35  2.75   \n",
       "\n",
       "       Gruoup       Group  \n",
       "0  (0.0, 0.5]  (0.0, 0.5]  \n",
       "1  (0.0, 0.5]  (0.0, 0.5]  \n",
       "2  (0.0, 0.5]  (0.0, 0.5]  \n",
       "3  (0.0, 0.5]  (0.0, 0.5]  \n",
       "4  (0.0, 0.5]  (0.0, 0.5]  "
      ]
     },
     "execution_count": 305,
     "metadata": {},
     "output_type": "execute_result"
    }
   ],
   "source": [
    "diamonds.head()"
   ]
  },
  {
   "cell_type": "code",
   "execution_count": 306,
   "metadata": {},
   "outputs": [],
   "source": [
    "tablaCutClarity=pd.crosstab(diamonds['cut'],columns= diamonds['clarity'], aggfunc = \"mean\", values = diamonds['depth'])"
   ]
  },
  {
   "cell_type": "markdown",
   "metadata": {},
   "source": [
    "Caculando fracuencias absolutas y relativas"
   ]
  },
  {
   "cell_type": "code",
   "execution_count": 307,
   "metadata": {},
   "outputs": [
    {
     "data": {
      "text/html": [
       "<div><div id=ce0dffbc-67e1-492d-bae3-2dfe9ea130ab style=\"display:none; background-color:#9D6CFF; color:white; width:200px; height:30px; padding-left:5px; border-radius:4px; flex-direction:row; justify-content:space-around; align-items:center;\" onmouseover=\"this.style.backgroundColor='#BA9BF8'\" onmouseout=\"this.style.backgroundColor='#9D6CFF'\" onclick=\"window.commands?.execute('create-mitosheet-from-dataframe-output');\">See Full Dataframe in Mito</div> <script> if (window.commands.hasCommand('create-mitosheet-from-dataframe-output')) document.getElementById('ce0dffbc-67e1-492d-bae3-2dfe9ea130ab').style.display = 'flex' </script> <table border=\"1\" class=\"dataframe\">\n",
       "  <thead>\n",
       "    <tr style=\"text-align: right;\">\n",
       "      <th>clarity</th>\n",
       "      <th>cut</th>\n",
       "      <th>I1</th>\n",
       "      <th>SI2</th>\n",
       "      <th>SI1</th>\n",
       "      <th>VS2</th>\n",
       "      <th>VS1</th>\n",
       "      <th>VVS2</th>\n",
       "      <th>VVS1</th>\n",
       "      <th>IF</th>\n",
       "    </tr>\n",
       "  </thead>\n",
       "  <tbody>\n",
       "    <tr>\n",
       "      <th>0</th>\n",
       "      <td>Fair</td>\n",
       "      <td>210</td>\n",
       "      <td>466</td>\n",
       "      <td>408</td>\n",
       "      <td>261</td>\n",
       "      <td>170</td>\n",
       "      <td>69</td>\n",
       "      <td>17</td>\n",
       "      <td>9</td>\n",
       "    </tr>\n",
       "    <tr>\n",
       "      <th>1</th>\n",
       "      <td>Good</td>\n",
       "      <td>96</td>\n",
       "      <td>1081</td>\n",
       "      <td>1560</td>\n",
       "      <td>978</td>\n",
       "      <td>648</td>\n",
       "      <td>286</td>\n",
       "      <td>186</td>\n",
       "      <td>71</td>\n",
       "    </tr>\n",
       "    <tr>\n",
       "      <th>2</th>\n",
       "      <td>Very Good</td>\n",
       "      <td>84</td>\n",
       "      <td>2100</td>\n",
       "      <td>3240</td>\n",
       "      <td>2591</td>\n",
       "      <td>1775</td>\n",
       "      <td>1235</td>\n",
       "      <td>789</td>\n",
       "      <td>268</td>\n",
       "    </tr>\n",
       "    <tr>\n",
       "      <th>3</th>\n",
       "      <td>Premium</td>\n",
       "      <td>205</td>\n",
       "      <td>2949</td>\n",
       "      <td>3575</td>\n",
       "      <td>3357</td>\n",
       "      <td>1989</td>\n",
       "      <td>870</td>\n",
       "      <td>616</td>\n",
       "      <td>230</td>\n",
       "    </tr>\n",
       "    <tr>\n",
       "      <th>4</th>\n",
       "      <td>Ideal</td>\n",
       "      <td>146</td>\n",
       "      <td>2598</td>\n",
       "      <td>4282</td>\n",
       "      <td>5071</td>\n",
       "      <td>3589</td>\n",
       "      <td>2606</td>\n",
       "      <td>2047</td>\n",
       "      <td>1212</td>\n",
       "    </tr>\n",
       "  </tbody>\n",
       "</table></div>"
      ],
      "text/plain": [
       "clarity        cut   I1   SI2   SI1   VS2   VS1  VVS2  VVS1    IF\n",
       "0             Fair  210   466   408   261   170    69    17     9\n",
       "1             Good   96  1081  1560   978   648   286   186    71\n",
       "2        Very Good   84  2100  3240  2591  1775  1235   789   268\n",
       "3          Premium  205  2949  3575  3357  1989   870   616   230\n",
       "4            Ideal  146  2598  4282  5071  3589  2606  2047  1212"
      ]
     },
     "execution_count": 307,
     "metadata": {},
     "output_type": "execute_result"
    }
   ],
   "source": [
    "tbf3=pd.crosstab(diamonds['cut'],columns= diamonds['clarity'], aggfunc = \"count\", values = diamonds['clarity']).reset_index()\n",
    "tbf3"
   ]
  },
  {
   "cell_type": "markdown",
   "metadata": {},
   "source": [
    "#Frecuencia relativa de agrupamiento de cut filtrado por claridad"
   ]
  },
  {
   "cell_type": "code",
   "execution_count": 308,
   "metadata": {},
   "outputs": [
    {
     "name": "stderr",
     "output_type": "stream",
     "text": [
      "C:\\Users\\daniel\\AppData\\Local\\Temp\\ipykernel_21024\\1709032328.py:1: FutureWarning: Dropping of nuisance columns in DataFrame reductions (with 'numeric_only=None') is deprecated; in a future version this will raise TypeError.  Select only valid columns before calling the reduction.\n"
     ]
    },
    {
     "data": {
      "text/html": [
       "<div><div id=cca4be89-e2f3-4f30-b377-69f73416d9e9 style=\"display:none; background-color:#9D6CFF; color:white; width:200px; height:30px; padding-left:5px; border-radius:4px; flex-direction:row; justify-content:space-around; align-items:center;\" onmouseover=\"this.style.backgroundColor='#BA9BF8'\" onmouseout=\"this.style.backgroundColor='#9D6CFF'\" onclick=\"window.commands?.execute('create-mitosheet-from-dataframe-output');\">See Full Dataframe in Mito</div> <script> if (window.commands.hasCommand('create-mitosheet-from-dataframe-output')) document.getElementById('cca4be89-e2f3-4f30-b377-69f73416d9e9').style.display = 'flex' </script> <table border=\"1\" class=\"dataframe\">\n",
       "  <thead>\n",
       "    <tr style=\"text-align: right;\">\n",
       "      <th>clarity</th>\n",
       "      <th>I1</th>\n",
       "      <th>SI2</th>\n",
       "      <th>SI1</th>\n",
       "      <th>VS2</th>\n",
       "      <th>VS1</th>\n",
       "      <th>VVS2</th>\n",
       "      <th>VVS1</th>\n",
       "      <th>IF</th>\n",
       "    </tr>\n",
       "  </thead>\n",
       "  <tbody>\n",
       "    <tr>\n",
       "      <th>0</th>\n",
       "      <td>0.283401</td>\n",
       "      <td>0.050685</td>\n",
       "      <td>0.031228</td>\n",
       "      <td>0.021292</td>\n",
       "      <td>0.020805</td>\n",
       "      <td>0.013620</td>\n",
       "      <td>0.004651</td>\n",
       "      <td>0.005028</td>\n",
       "    </tr>\n",
       "    <tr>\n",
       "      <th>1</th>\n",
       "      <td>0.129555</td>\n",
       "      <td>0.117577</td>\n",
       "      <td>0.119403</td>\n",
       "      <td>0.079785</td>\n",
       "      <td>0.079305</td>\n",
       "      <td>0.056455</td>\n",
       "      <td>0.050889</td>\n",
       "      <td>0.039665</td>\n",
       "    </tr>\n",
       "    <tr>\n",
       "      <th>2</th>\n",
       "      <td>0.113360</td>\n",
       "      <td>0.228410</td>\n",
       "      <td>0.247991</td>\n",
       "      <td>0.211372</td>\n",
       "      <td>0.217232</td>\n",
       "      <td>0.243782</td>\n",
       "      <td>0.215869</td>\n",
       "      <td>0.149721</td>\n",
       "    </tr>\n",
       "    <tr>\n",
       "      <th>3</th>\n",
       "      <td>0.276653</td>\n",
       "      <td>0.320753</td>\n",
       "      <td>0.273632</td>\n",
       "      <td>0.273862</td>\n",
       "      <td>0.243422</td>\n",
       "      <td>0.171733</td>\n",
       "      <td>0.168536</td>\n",
       "      <td>0.128492</td>\n",
       "    </tr>\n",
       "    <tr>\n",
       "      <th>4</th>\n",
       "      <td>0.197031</td>\n",
       "      <td>0.282576</td>\n",
       "      <td>0.327746</td>\n",
       "      <td>0.413689</td>\n",
       "      <td>0.439236</td>\n",
       "      <td>0.514410</td>\n",
       "      <td>0.560055</td>\n",
       "      <td>0.677095</td>\n",
       "    </tr>\n",
       "  </tbody>\n",
       "</table></div>"
      ],
      "text/plain": [
       "clarity        I1       SI2       SI1       VS2       VS1      VVS2      VVS1  \\\n",
       "0        0.283401  0.050685  0.031228  0.021292  0.020805  0.013620  0.004651   \n",
       "1        0.129555  0.117577  0.119403  0.079785  0.079305  0.056455  0.050889   \n",
       "2        0.113360  0.228410  0.247991  0.211372  0.217232  0.243782  0.215869   \n",
       "3        0.276653  0.320753  0.273632  0.273862  0.243422  0.171733  0.168536   \n",
       "4        0.197031  0.282576  0.327746  0.413689  0.439236  0.514410  0.560055   \n",
       "\n",
       "clarity        IF  \n",
       "0        0.005028  \n",
       "1        0.039665  \n",
       "2        0.149721  \n",
       "3        0.128492  \n",
       "4        0.677095  "
      ]
     },
     "execution_count": 308,
     "metadata": {},
     "output_type": "execute_result"
    }
   ],
   "source": [
    "tbf3[['I1','SI2','SI1',\t'VS2','VS1','VVS2',\t'VVS1',\t'IF']].apply(lambda x: x/tbf3.sum(),axis=1,result_type='expand')"
   ]
  },
  {
   "cell_type": "code",
   "execution_count": 309,
   "metadata": {},
   "outputs": [
    {
     "name": "stderr",
     "output_type": "stream",
     "text": [
      "C:\\Users\\daniel\\AppData\\Local\\Temp\\ipykernel_21024\\1699714206.py:2: FutureWarning: Dropping of nuisance columns in DataFrame reductions (with 'numeric_only=None') is deprecated; in a future version this will raise TypeError.  Select only valid columns before calling the reduction.\n"
     ]
    },
    {
     "data": {
      "text/html": [
       "<div><div id=9490cff0-08bf-4117-8a57-8630c13d3137 style=\"display:none; background-color:#9D6CFF; color:white; width:200px; height:30px; padding-left:5px; border-radius:4px; flex-direction:row; justify-content:space-around; align-items:center;\" onmouseover=\"this.style.backgroundColor='#BA9BF8'\" onmouseout=\"this.style.backgroundColor='#9D6CFF'\" onclick=\"window.commands?.execute('create-mitosheet-from-dataframe-output');\">See Full Dataframe in Mito</div> <script> if (window.commands.hasCommand('create-mitosheet-from-dataframe-output')) document.getElementById('9490cff0-08bf-4117-8a57-8630c13d3137').style.display = 'flex' </script> <table border=\"1\" class=\"dataframe\">\n",
       "  <thead>\n",
       "    <tr style=\"text-align: right;\">\n",
       "      <th>clarity</th>\n",
       "      <th>I1</th>\n",
       "      <th>IF</th>\n",
       "      <th>SI1</th>\n",
       "      <th>SI2</th>\n",
       "      <th>VS1</th>\n",
       "      <th>VS2</th>\n",
       "      <th>VVS1</th>\n",
       "      <th>VVS2</th>\n",
       "      <th>cut</th>\n",
       "    </tr>\n",
       "  </thead>\n",
       "  <tbody>\n",
       "    <tr>\n",
       "      <th>0</th>\n",
       "      <td>0.283401</td>\n",
       "      <td>0.005028</td>\n",
       "      <td>0.031228</td>\n",
       "      <td>0.050685</td>\n",
       "      <td>0.020805</td>\n",
       "      <td>0.021292</td>\n",
       "      <td>0.004651</td>\n",
       "      <td>0.013620</td>\n",
       "      <td>NaN</td>\n",
       "    </tr>\n",
       "    <tr>\n",
       "      <th>1</th>\n",
       "      <td>0.129555</td>\n",
       "      <td>0.039665</td>\n",
       "      <td>0.119403</td>\n",
       "      <td>0.117577</td>\n",
       "      <td>0.079305</td>\n",
       "      <td>0.079785</td>\n",
       "      <td>0.050889</td>\n",
       "      <td>0.056455</td>\n",
       "      <td>NaN</td>\n",
       "    </tr>\n",
       "    <tr>\n",
       "      <th>2</th>\n",
       "      <td>0.113360</td>\n",
       "      <td>0.149721</td>\n",
       "      <td>0.247991</td>\n",
       "      <td>0.228410</td>\n",
       "      <td>0.217232</td>\n",
       "      <td>0.211372</td>\n",
       "      <td>0.215869</td>\n",
       "      <td>0.243782</td>\n",
       "      <td>NaN</td>\n",
       "    </tr>\n",
       "    <tr>\n",
       "      <th>3</th>\n",
       "      <td>0.276653</td>\n",
       "      <td>0.128492</td>\n",
       "      <td>0.273632</td>\n",
       "      <td>0.320753</td>\n",
       "      <td>0.243422</td>\n",
       "      <td>0.273862</td>\n",
       "      <td>0.168536</td>\n",
       "      <td>0.171733</td>\n",
       "      <td>NaN</td>\n",
       "    </tr>\n",
       "    <tr>\n",
       "      <th>4</th>\n",
       "      <td>0.197031</td>\n",
       "      <td>0.677095</td>\n",
       "      <td>0.327746</td>\n",
       "      <td>0.282576</td>\n",
       "      <td>0.439236</td>\n",
       "      <td>0.413689</td>\n",
       "      <td>0.560055</td>\n",
       "      <td>0.514410</td>\n",
       "      <td>NaN</td>\n",
       "    </tr>\n",
       "  </tbody>\n",
       "</table></div>"
      ],
      "text/plain": [
       "clarity        I1        IF       SI1       SI2       VS1       VS2      VVS1  \\\n",
       "0        0.283401  0.005028  0.031228  0.050685  0.020805  0.021292  0.004651   \n",
       "1        0.129555  0.039665  0.119403  0.117577  0.079305  0.079785  0.050889   \n",
       "2        0.113360  0.149721  0.247991  0.228410  0.217232  0.211372  0.215869   \n",
       "3        0.276653  0.128492  0.273632  0.320753  0.243422  0.273862  0.168536   \n",
       "4        0.197031  0.677095  0.327746  0.282576  0.439236  0.413689  0.560055   \n",
       "\n",
       "clarity      VVS2  cut  \n",
       "0        0.013620  NaN  \n",
       "1        0.056455  NaN  \n",
       "2        0.243782  NaN  \n",
       "3        0.171733  NaN  \n",
       "4        0.514410  NaN  "
      ]
     },
     "execution_count": 309,
     "metadata": {},
     "output_type": "execute_result"
    }
   ],
   "source": [
    "tb4=pd.crosstab(diamonds['cut'],columns= diamonds['clarity']).reset_index()\n",
    "tb4.apply(lambda x: x/tb4.sum(),axis=1,result_type='expand')"
   ]
  },
  {
   "cell_type": "code",
   "execution_count": 310,
   "metadata": {},
   "outputs": [
    {
     "data": {
      "text/html": [
       "<div><div id=2e58b3d1-2515-49c8-a833-8b0d5da6e3c2 style=\"display:none; background-color:#9D6CFF; color:white; width:200px; height:30px; padding-left:5px; border-radius:4px; flex-direction:row; justify-content:space-around; align-items:center;\" onmouseover=\"this.style.backgroundColor='#BA9BF8'\" onmouseout=\"this.style.backgroundColor='#9D6CFF'\" onclick=\"window.commands?.execute('create-mitosheet-from-dataframe-output');\">See Full Dataframe in Mito</div> <script> if (window.commands.hasCommand('create-mitosheet-from-dataframe-output')) document.getElementById('2e58b3d1-2515-49c8-a833-8b0d5da6e3c2').style.display = 'flex' </script> <table border=\"1\" class=\"dataframe\">\n",
       "  <thead>\n",
       "    <tr style=\"text-align: right;\">\n",
       "      <th>col_0</th>\n",
       "      <th>conteo</th>\n",
       "      <th>Porcen</th>\n",
       "    </tr>\n",
       "    <tr>\n",
       "      <th>cut</th>\n",
       "      <th></th>\n",
       "      <th></th>\n",
       "    </tr>\n",
       "  </thead>\n",
       "  <tbody>\n",
       "    <tr>\n",
       "      <th>Fair</th>\n",
       "      <td>1610</td>\n",
       "      <td>2.984798</td>\n",
       "    </tr>\n",
       "    <tr>\n",
       "      <th>Good</th>\n",
       "      <td>4906</td>\n",
       "      <td>9.095291</td>\n",
       "    </tr>\n",
       "    <tr>\n",
       "      <th>Very Good</th>\n",
       "      <td>12082</td>\n",
       "      <td>22.398962</td>\n",
       "    </tr>\n",
       "    <tr>\n",
       "      <th>Premium</th>\n",
       "      <td>13791</td>\n",
       "      <td>25.567297</td>\n",
       "    </tr>\n",
       "    <tr>\n",
       "      <th>Ideal</th>\n",
       "      <td>21551</td>\n",
       "      <td>39.953652</td>\n",
       "    </tr>\n",
       "  </tbody>\n",
       "</table></div>"
      ],
      "text/plain": [
       "col_0      conteo     Porcen\n",
       "cut                         \n",
       "Fair         1610   2.984798\n",
       "Good         4906   9.095291\n",
       "Very Good   12082  22.398962\n",
       "Premium     13791  25.567297\n",
       "Ideal       21551  39.953652"
      ]
     },
     "execution_count": 310,
     "metadata": {},
     "output_type": "execute_result"
    }
   ],
   "source": [
    "#tabla de frecuencia con porcentaje FRECUENCIA RELATIVA\n",
    "tablaFrec=pd.crosstab(diamonds['cut'],columns= 'conteo')\n",
    "tablaFrec['Porcen']=100*tablaFrec['conteo']/tablaFrec['conteo'].sum()\n",
    "tablaFrec"
   ]
  },
  {
   "cell_type": "code",
   "execution_count": 311,
   "metadata": {},
   "outputs": [
    {
     "data": {
      "text/html": [
       "<div><div id=f2d67994-5822-4e74-93e7-144e936027d6 style=\"display:none; background-color:#9D6CFF; color:white; width:200px; height:30px; padding-left:5px; border-radius:4px; flex-direction:row; justify-content:space-around; align-items:center;\" onmouseover=\"this.style.backgroundColor='#BA9BF8'\" onmouseout=\"this.style.backgroundColor='#9D6CFF'\" onclick=\"window.commands?.execute('create-mitosheet-from-dataframe-output');\">See Full Dataframe in Mito</div> <script> if (window.commands.hasCommand('create-mitosheet-from-dataframe-output')) document.getElementById('f2d67994-5822-4e74-93e7-144e936027d6').style.display = 'flex' </script> <table border=\"1\" class=\"dataframe\">\n",
       "  <thead>\n",
       "    <tr style=\"text-align: right;\">\n",
       "      <th></th>\n",
       "      <th>cut</th>\n",
       "      <th>frequency</th>\n",
       "      <th>Porcentaje</th>\n",
       "    </tr>\n",
       "  </thead>\n",
       "  <tbody>\n",
       "    <tr>\n",
       "      <th>0</th>\n",
       "      <td>Fair</td>\n",
       "      <td>1610</td>\n",
       "      <td>2.984798</td>\n",
       "    </tr>\n",
       "    <tr>\n",
       "      <th>1</th>\n",
       "      <td>Good</td>\n",
       "      <td>4906</td>\n",
       "      <td>9.095291</td>\n",
       "    </tr>\n",
       "    <tr>\n",
       "      <th>2</th>\n",
       "      <td>Very Good</td>\n",
       "      <td>12082</td>\n",
       "      <td>22.398962</td>\n",
       "    </tr>\n",
       "    <tr>\n",
       "      <th>3</th>\n",
       "      <td>Premium</td>\n",
       "      <td>13791</td>\n",
       "      <td>25.567297</td>\n",
       "    </tr>\n",
       "    <tr>\n",
       "      <th>4</th>\n",
       "      <td>Ideal</td>\n",
       "      <td>21551</td>\n",
       "      <td>39.953652</td>\n",
       "    </tr>\n",
       "  </tbody>\n",
       "</table></div>"
      ],
      "text/plain": [
       "         cut  frequency  Porcentaje\n",
       "0       Fair       1610    2.984798\n",
       "1       Good       4906    9.095291\n",
       "2  Very Good      12082   22.398962\n",
       "3    Premium      13791   25.567297\n",
       "4      Ideal      21551   39.953652"
      ]
     },
     "execution_count": 311,
     "metadata": {},
     "output_type": "execute_result"
    }
   ],
   "source": [
    "#tabla de frecuencia con porcentaje\n",
    "tfr2=diamonds.groupby('cut').agg(frequency=('clarity','count'))\n",
    "tfr2['Porcentaje']=tfr2.apply(lambda x: x*100/tfr2.sum(),axis=1, result_type='expand')\n",
    "tfr2=tfr2.reset_index()\n",
    "tfr2"
   ]
  },
  {
   "cell_type": "code",
   "execution_count": 312,
   "metadata": {},
   "outputs": [
    {
     "data": {
      "image/png": "[encoded data removed]",
      "text/plain": [
       "<Figure size 640x480 with 1 Axes>"
      ]
     },
     "metadata": {},
     "output_type": "display_data"
    },
    {
     "data": {
      "text/plain": [
       "<ggplot: (171216942687)>"
      ]
     },
     "execution_count": 312,
     "metadata": {},
     "output_type": "execute_result"
    }
   ],
   "source": [
    "#graficando con ggplot plotnine\n",
    "\n",
    "#grafico de barras \n",
    "(ggplot(tfr2,aes(x='cut',y='frequency',color='factor(cut)',fill='cut')) + geom_bar(stat='identity') )"
   ]
  },
  {
   "cell_type": "code",
   "execution_count": 313,
   "metadata": {},
   "outputs": [
    {
     "data": {
      "text/html": [
       "<div><div id=613dd81f-ac2a-4cb1-9a0c-5a1d77640491 style=\"display:none; background-color:#9D6CFF; color:white; width:200px; height:30px; padding-left:5px; border-radius:4px; flex-direction:row; justify-content:space-around; align-items:center;\" onmouseover=\"this.style.backgroundColor='#BA9BF8'\" onmouseout=\"this.style.backgroundColor='#9D6CFF'\" onclick=\"window.commands?.execute('create-mitosheet-from-dataframe-output');\">See Full Dataframe in Mito</div> <script> if (window.commands.hasCommand('create-mitosheet-from-dataframe-output')) document.getElementById('613dd81f-ac2a-4cb1-9a0c-5a1d77640491').style.display = 'flex' </script> <table border=\"1\" class=\"dataframe\">\n",
       "  <thead>\n",
       "    <tr style=\"text-align: right;\">\n",
       "      <th></th>\n",
       "      <th>frequency</th>\n",
       "      <th>mediaDepth</th>\n",
       "    </tr>\n",
       "    <tr>\n",
       "      <th>cut</th>\n",
       "      <th></th>\n",
       "      <th></th>\n",
       "    </tr>\n",
       "  </thead>\n",
       "  <tbody>\n",
       "    <tr>\n",
       "      <th>Fair</th>\n",
       "      <td>1610</td>\n",
       "      <td>64.041677</td>\n",
       "    </tr>\n",
       "    <tr>\n",
       "      <th>Good</th>\n",
       "      <td>6516</td>\n",
       "      <td>126.407556</td>\n",
       "    </tr>\n",
       "    <tr>\n",
       "      <th>Very Good</th>\n",
       "      <td>18598</td>\n",
       "      <td>188.225831</td>\n",
       "    </tr>\n",
       "    <tr>\n",
       "      <th>Premium</th>\n",
       "      <td>32389</td>\n",
       "      <td>249.490503</td>\n",
       "    </tr>\n",
       "    <tr>\n",
       "      <th>Ideal</th>\n",
       "      <td>53940</td>\n",
       "      <td>311.199904</td>\n",
       "    </tr>\n",
       "  </tbody>\n",
       "</table></div>"
      ],
      "text/plain": [
       "           frequency  mediaDepth\n",
       "cut                             \n",
       "Fair            1610   64.041677\n",
       "Good            6516  126.407556\n",
       "Very Good      18598  188.225831\n",
       "Premium        32389  249.490503\n",
       "Ideal          53940  311.199904"
      ]
     },
     "execution_count": 313,
     "metadata": {},
     "output_type": "execute_result"
    }
   ],
   "source": [
    "diamonds.groupby('cut').agg(frequency=('clarity','count'), mediaDepth=('depth','mean')).cumsum()"
   ]
  },
  {
   "cell_type": "code",
   "execution_count": 314,
   "metadata": {},
   "outputs": [
    {
     "data": {
      "text/html": [
       "<div><div id=96f44d2e-8d1d-48d4-8889-6d89d985873f style=\"display:none; background-color:#9D6CFF; color:white; width:200px; height:30px; padding-left:5px; border-radius:4px; flex-direction:row; justify-content:space-around; align-items:center;\" onmouseover=\"this.style.backgroundColor='#BA9BF8'\" onmouseout=\"this.style.backgroundColor='#9D6CFF'\" onclick=\"window.commands?.execute('create-mitosheet-from-dataframe-output');\">See Full Dataframe in Mito</div> <script> if (window.commands.hasCommand('create-mitosheet-from-dataframe-output')) document.getElementById('96f44d2e-8d1d-48d4-8889-6d89d985873f').style.display = 'flex' </script> <table border=\"1\" class=\"dataframe\">\n",
       "  <thead>\n",
       "    <tr style=\"text-align: right;\">\n",
       "      <th></th>\n",
       "      <th>cut</th>\n",
       "      <th>frequency</th>\n",
       "      <th>PorcDepth</th>\n",
       "    </tr>\n",
       "  </thead>\n",
       "  <tbody>\n",
       "    <tr>\n",
       "      <th>0</th>\n",
       "      <td>Fair</td>\n",
       "      <td>1610</td>\n",
       "      <td>1610</td>\n",
       "    </tr>\n",
       "    <tr>\n",
       "      <th>1</th>\n",
       "      <td>Good</td>\n",
       "      <td>4906</td>\n",
       "      <td>4906</td>\n",
       "    </tr>\n",
       "    <tr>\n",
       "      <th>2</th>\n",
       "      <td>Very Good</td>\n",
       "      <td>12082</td>\n",
       "      <td>12082</td>\n",
       "    </tr>\n",
       "    <tr>\n",
       "      <th>3</th>\n",
       "      <td>Premium</td>\n",
       "      <td>13791</td>\n",
       "      <td>13791</td>\n",
       "    </tr>\n",
       "    <tr>\n",
       "      <th>4</th>\n",
       "      <td>Ideal</td>\n",
       "      <td>21551</td>\n",
       "      <td>21551</td>\n",
       "    </tr>\n",
       "  </tbody>\n",
       "</table></div>"
      ],
      "text/plain": [
       "         cut  frequency  PorcDepth\n",
       "0       Fair       1610       1610\n",
       "1       Good       4906       4906\n",
       "2  Very Good      12082      12082\n",
       "3    Premium      13791      13791\n",
       "4      Ideal      21551      21551"
      ]
     },
     "execution_count": 314,
     "metadata": {},
     "output_type": "execute_result"
    }
   ],
   "source": [
    "diamonds.groupby('cut').agg(frequency=('clarity','count'), PorcDepth= ('clarity','count')).reset_index() #resetear el index permite ubicar cut como nombre de columna y sacarlo de indice"
   ]
  },
  {
   "cell_type": "code",
   "execution_count": 352,
   "metadata": {},
   "outputs": [
    {
     "data": {
      "image/png": "[encoded data removed]",
      "text/plain": [
       "<Figure size 720x864 with 1 Axes>"
      ]
     },
     "metadata": {},
     "output_type": "display_data"
    }
   ],
   "source": [
    "#Una de frecuencia por grupos de\n",
    "#agrupamos con cut , agrupamos peso (kilates -carat) o tamaño\n",
    "bins = list(np.arange(0, 4, 0.5))\n",
    "diamonds['Group']=pd.cut(diamonds['carat'],bins=[0.0, 0.5, 1.0, 1.5, 2.0, 2.5, 3.0, 3.5])\n",
    "\n",
    "\n",
    "diamonds.groupby('Group').agg(frequency=('Group','count'))\n",
    "\n",
    "fig, ax=plt.subplots(figsize=(10,12))\n",
    "ax.hist(diamonds['carat'], bins=50, edgecolor = \"black\")\n",
    "\n",
    "\n",
    "\n",
    "\n",
    "\n"
   ]
  },
  {
   "cell_type": "code",
   "execution_count": 354,
   "metadata": {},
   "outputs": [
    {
     "ename": "TypeError",
     "evalue": "cannot unpack non-iterable AxesSubplot object",
     "output_type": "error",
     "traceback": [
      "\u001b[1;31m---------------------------------------------------------------------------\u001b[0m",
      "\u001b[1;31mTypeError\u001b[0m                                 Traceback (most recent call last)",
      "\u001b[1;32mc:\\Users\\daniel\\Documents\\DATA\\Estadistica\\r-basic\\scripts\\tema8\\AnalisisDiamonds.ipynb Celda 15\u001b[0m in \u001b[0;36m<cell line: 3>\u001b[1;34m()\u001b[0m\n\u001b[0;32m      <a href='vscode-notebook-cell:/c%3A/Users/daniel/Documents/DATA/Estadistica/r-basic/scripts/tema8/AnalisisDiamonds.ipynb#X36sZmlsZQ%3D%3D?line=0'>1</a>\u001b[0m \u001b[39mimport\u001b[39;00m \u001b[39mseaborn\u001b[39;00m \u001b[39mas\u001b[39;00m \u001b[39msbn\u001b[39;00m \n\u001b[0;32m      <a href='vscode-notebook-cell:/c%3A/Users/daniel/Documents/DATA/Estadistica/r-basic/scripts/tema8/AnalisisDiamonds.ipynb#X36sZmlsZQ%3D%3D?line=1'>2</a>\u001b[0m dist\u001b[39m=\u001b[39msbn\u001b[39m.\u001b[39mdistplot(diamonds[\u001b[39m'\u001b[39m\u001b[39mcarat\u001b[39m\u001b[39m'\u001b[39m],bins\u001b[39m=\u001b[39m\u001b[39m50\u001b[39m,hist\u001b[39m=\u001b[39m\u001b[39mFalse\u001b[39;00m)\n\u001b[1;32m----> <a href='vscode-notebook-cell:/c%3A/Users/daniel/Documents/DATA/Estadistica/r-basic/scripts/tema8/AnalisisDiamonds.ipynb#X36sZmlsZQ%3D%3D?line=2'>3</a>\u001b[0m x,y\u001b[39m=\u001b[39mdist\n\u001b[0;32m      <a href='vscode-notebook-cell:/c%3A/Users/daniel/Documents/DATA/Estadistica/r-basic/scripts/tema8/AnalisisDiamonds.ipynb#X36sZmlsZQ%3D%3D?line=3'>4</a>\u001b[0m plt\u001b[39m.\u001b[39mshow()\n",
      "\u001b[1;31mTypeError\u001b[0m: cannot unpack non-iterable AxesSubplot object"
     ]
    },
    {
     "data": {
      "image/png": "[encoded data removed]",
      "text/plain": [
       "<Figure size 432x288 with 1 Axes>"
      ]
     },
     "metadata": {},
     "output_type": "display_data"
    }
   ],
   "source": [
    "import seaborn as sbn \n",
    "dist=sbn.distplot(diamonds['carat'],bins=50,hist=False)\n",
    "\n",
    "plt.show()"
   ]
  },
  {
   "cell_type": "code",
   "execution_count": 331,
   "metadata": {},
   "outputs": [
    {
     "data": {
      "text/plain": [
       "<AxesSubplot:ylabel='Density'>"
      ]
     },
     "execution_count": 331,
     "metadata": {},
     "output_type": "execute_result"
    },
    {
     "data": {
      "image/png": "[encoded data removed]",
      "text/plain": [
       "<Figure size 720x864 with 1 Axes>"
      ]
     },
     "metadata": {},
     "output_type": "display_data"
    }
   ],
   "source": [
    "fig, ax=plt.subplots(figsize=(10,12))\n",
    "\n",
    "diamonds['carat'].plot(kind='density')"
   ]
  },
  {
   "cell_type": "code",
   "execution_count": 337,
   "metadata": {},
   "outputs": [
    {
     "data": {
      "image/png": "[encoded data removed]",
      "text/plain": [
       "<Figure size 432x288 with 1 Axes>"
      ]
     },
     "metadata": {},
     "output_type": "display_data"
    }
   ],
   "source": [
    "import seaborn as sbn \n",
    "sbn.distplot(diamonds['carat'],bins=50,hist=False)\n",
    "plt.show()"
   ]
  },
  {
   "cell_type": "code",
   "execution_count": 316,
   "metadata": {},
   "outputs": [
    {
     "data": {
      "text/html": [
       "<div><div id=82ec539c-99b9-4715-8552-e074872adc6f style=\"display:none; background-color:#9D6CFF; color:white; width:200px; height:30px; padding-left:5px; border-radius:4px; flex-direction:row; justify-content:space-around; align-items:center;\" onmouseover=\"this.style.backgroundColor='#BA9BF8'\" onmouseout=\"this.style.backgroundColor='#9D6CFF'\" onclick=\"window.commands?.execute('create-mitosheet-from-dataframe-output');\">See Full Dataframe in Mito</div> <script> if (window.commands.hasCommand('create-mitosheet-from-dataframe-output')) document.getElementById('82ec539c-99b9-4715-8552-e074872adc6f').style.display = 'flex' </script> <table border=\"1\" class=\"dataframe\">\n",
       "  <thead>\n",
       "    <tr style=\"text-align: right;\">\n",
       "      <th>clarity</th>\n",
       "      <th>I1</th>\n",
       "      <th>SI2</th>\n",
       "      <th>SI1</th>\n",
       "      <th>VS2</th>\n",
       "      <th>VS1</th>\n",
       "      <th>VVS2</th>\n",
       "      <th>VVS1</th>\n",
       "      <th>IF</th>\n",
       "    </tr>\n",
       "    <tr>\n",
       "      <th>cut</th>\n",
       "      <th></th>\n",
       "      <th></th>\n",
       "      <th></th>\n",
       "      <th></th>\n",
       "      <th></th>\n",
       "      <th></th>\n",
       "      <th></th>\n",
       "      <th></th>\n",
       "    </tr>\n",
       "  </thead>\n",
       "  <tbody>\n",
       "    <tr>\n",
       "      <th>Fair</th>\n",
       "      <td>210</td>\n",
       "      <td>466</td>\n",
       "      <td>408</td>\n",
       "      <td>261</td>\n",
       "      <td>170</td>\n",
       "      <td>69</td>\n",
       "      <td>17</td>\n",
       "      <td>9</td>\n",
       "    </tr>\n",
       "    <tr>\n",
       "      <th>Good</th>\n",
       "      <td>96</td>\n",
       "      <td>1081</td>\n",
       "      <td>1560</td>\n",
       "      <td>978</td>\n",
       "      <td>648</td>\n",
       "      <td>286</td>\n",
       "      <td>186</td>\n",
       "      <td>71</td>\n",
       "    </tr>\n",
       "    <tr>\n",
       "      <th>Very Good</th>\n",
       "      <td>84</td>\n",
       "      <td>2100</td>\n",
       "      <td>3240</td>\n",
       "      <td>2591</td>\n",
       "      <td>1775</td>\n",
       "      <td>1235</td>\n",
       "      <td>789</td>\n",
       "      <td>268</td>\n",
       "    </tr>\n",
       "    <tr>\n",
       "      <th>Premium</th>\n",
       "      <td>205</td>\n",
       "      <td>2949</td>\n",
       "      <td>3575</td>\n",
       "      <td>3357</td>\n",
       "      <td>1989</td>\n",
       "      <td>870</td>\n",
       "      <td>616</td>\n",
       "      <td>230</td>\n",
       "    </tr>\n",
       "    <tr>\n",
       "      <th>Ideal</th>\n",
       "      <td>146</td>\n",
       "      <td>2598</td>\n",
       "      <td>4282</td>\n",
       "      <td>5071</td>\n",
       "      <td>3589</td>\n",
       "      <td>2606</td>\n",
       "      <td>2047</td>\n",
       "      <td>1212</td>\n",
       "    </tr>\n",
       "  </tbody>\n",
       "</table></div>"
      ],
      "text/plain": [
       "clarity     I1   SI2   SI1   VS2   VS1  VVS2  VVS1    IF\n",
       "cut                                                     \n",
       "Fair       210   466   408   261   170    69    17     9\n",
       "Good        96  1081  1560   978   648   286   186    71\n",
       "Very Good   84  2100  3240  2591  1775  1235   789   268\n",
       "Premium    205  2949  3575  3357  1989   870   616   230\n",
       "Ideal      146  2598  4282  5071  3589  2606  2047  1212"
      ]
     },
     "execution_count": 316,
     "metadata": {},
     "output_type": "execute_result"
    }
   ],
   "source": [
    "pd.crosstab(diamonds['cut'],columns= diamonds['clarity'])"
   ]
  },
  {
   "cell_type": "code",
   "execution_count": 317,
   "metadata": {},
   "outputs": [
    {
     "data": {
      "text/plain": [
       "<AxesSubplot:title={'center':'carat'}, xlabel='cut'>"
      ]
     },
     "execution_count": 317,
     "metadata": {},
     "output_type": "execute_result"
    },
    {
     "data": {
      "image/png": "[encoded data removed]",
      "text/plain": [
       "<Figure size 720x576 with 1 Axes>"
      ]
     },
     "metadata": {},
     "output_type": "display_data"
    }
   ],
   "source": [
    "\n",
    "diamonds.boxplot(column='carat',by='cut', figsize = (10, 8))"
   ]
  },
  {
   "cell_type": "code",
   "execution_count": 318,
   "metadata": {},
   "outputs": [
    {
     "data": {
      "text/plain": [
       "<AxesSubplot:title={'center':'carat'}, xlabel='cut'>"
      ]
     },
     "execution_count": 318,
     "metadata": {},
     "output_type": "execute_result"
    },
    {
     "data": {
      "image/png": "[encoded data removed]",
      "text/plain": [
       "<Figure size 720x576 with 1 Axes>"
      ]
     },
     "metadata": {},
     "output_type": "display_data"
    }
   ],
   "source": [
    "diamonds.boxplot(column='carat',by='cut', figsize = (10, 8))"
   ]
  },
  {
   "cell_type": "code",
   "execution_count": 319,
   "metadata": {},
   "outputs": [
    {
     "data": {
      "text/plain": [
       "9"
      ]
     },
     "execution_count": 319,
     "metadata": {},
     "output_type": "execute_result"
    },
    {
     "data": {
      "image/png": "[encoded data removed]",
      "text/plain": [
       "<Figure size 864x864 with 1 Axes>"
      ]
     },
     "metadata": {},
     "output_type": "display_data"
    }
   ],
   "source": [
    "fig,ax=plt.subplots(figsize=(12,12))\n",
    "plt.style.use('ggplot')\n",
    "ax.hist(x=diamonds['carat'],bins=10,lw=2,orientation= 'horizontal',edgecolor='black')\n",
    "ax.set_title('Histograma de QUILATES')\n",
    "ax.set_xlabel('QUILATES')\n",
    "ax.set_ylabel('Cantidad')\n",
    "\n",
    "\n",
    "9"
   ]
  },
  {
   "cell_type": "code",
   "execution_count": 320,
   "metadata": {},
   "outputs": [
    {
     "data": {
      "text/html": [
       "<div><div id=2aedf4ce-5eaf-4796-a54a-5928ad6c809b style=\"display:none; background-color:#9D6CFF; color:white; width:200px; height:30px; padding-left:5px; border-radius:4px; flex-direction:row; justify-content:space-around; align-items:center;\" onmouseover=\"this.style.backgroundColor='#BA9BF8'\" onmouseout=\"this.style.backgroundColor='#9D6CFF'\" onclick=\"window.commands?.execute('create-mitosheet-from-dataframe-output');\">See Full Dataframe in Mito</div> <script> if (window.commands.hasCommand('create-mitosheet-from-dataframe-output')) document.getElementById('2aedf4ce-5eaf-4796-a54a-5928ad6c809b').style.display = 'flex' </script> <table border=\"1\" class=\"dataframe\">\n",
       "  <thead>\n",
       "    <tr style=\"text-align: right;\">\n",
       "      <th></th>\n",
       "      <th>cut</th>\n",
       "      <th>frecuenciaCara</th>\n",
       "    </tr>\n",
       "  </thead>\n",
       "  <tbody>\n",
       "    <tr>\n",
       "      <th>1</th>\n",
       "      <td>Good</td>\n",
       "      <td>4906</td>\n",
       "    </tr>\n",
       "    <tr>\n",
       "      <th>2</th>\n",
       "      <td>Very Good</td>\n",
       "      <td>12082</td>\n",
       "    </tr>\n",
       "    <tr>\n",
       "      <th>3</th>\n",
       "      <td>Premium</td>\n",
       "      <td>13791</td>\n",
       "    </tr>\n",
       "    <tr>\n",
       "      <th>4</th>\n",
       "      <td>Ideal</td>\n",
       "      <td>21551</td>\n",
       "    </tr>\n",
       "  </tbody>\n",
       "</table></div>"
      ],
      "text/plain": [
       "         cut  frecuenciaCara\n",
       "1       Good            4906\n",
       "2  Very Good           12082\n",
       "3    Premium           13791\n",
       "4      Ideal           21551"
      ]
     },
     "execution_count": 320,
     "metadata": {},
     "output_type": "execute_result"
    }
   ],
   "source": [
    "tb5=diamonds.groupby('cut').agg(frecuenciaCara=('carat','count')).reset_index()\n",
    "tb5[tb5['cut']!='Fair']#filtrando \n",
    "#filtrando el por valores de un grupo \n"
   ]
  },
  {
   "cell_type": "code",
   "execution_count": 321,
   "metadata": {},
   "outputs": [
    {
     "name": "stderr",
     "output_type": "stream",
     "text": [
      "C:\\Users\\daniel\\AppData\\Local\\Temp\\ipykernel_21024\\80494226.py:1: FutureWarning: Dropping invalid columns in DataFrameGroupBy.rank is deprecated. In a future version, a TypeError will be raised. Before calling .rank, select only columns which should be valid for the function.\n"
     ]
    },
    {
     "data": {
      "text/html": [
       "<div><div id=b2a37a0f-1ff1-4ef1-b1f9-92457f024149 style=\"display:none; background-color:#9D6CFF; color:white; width:200px; height:30px; padding-left:5px; border-radius:4px; flex-direction:row; justify-content:space-around; align-items:center;\" onmouseover=\"this.style.backgroundColor='#BA9BF8'\" onmouseout=\"this.style.backgroundColor='#9D6CFF'\" onclick=\"window.commands?.execute('create-mitosheet-from-dataframe-output');\">See Full Dataframe in Mito</div> <script> if (window.commands.hasCommand('create-mitosheet-from-dataframe-output')) document.getElementById('b2a37a0f-1ff1-4ef1-b1f9-92457f024149').style.display = 'flex' </script> <table border=\"1\" class=\"dataframe\">\n",
       "  <thead>\n",
       "    <tr style=\"text-align: right;\">\n",
       "      <th></th>\n",
       "      <th>depth</th>\n",
       "      <th>table</th>\n",
       "      <th>price</th>\n",
       "      <th>x</th>\n",
       "      <th>y</th>\n",
       "      <th>z</th>\n",
       "    </tr>\n",
       "  </thead>\n",
       "  <tbody>\n",
       "    <tr>\n",
       "      <th>0</th>\n",
       "      <td>36.0</td>\n",
       "      <td>4.0</td>\n",
       "      <td>1.0</td>\n",
       "      <td>13.0</td>\n",
       "      <td>15.0</td>\n",
       "      <td>11.0</td>\n",
       "    </tr>\n",
       "    <tr>\n",
       "      <th>1</th>\n",
       "      <td>4.0</td>\n",
       "      <td>5.0</td>\n",
       "      <td>1.0</td>\n",
       "      <td>5.0</td>\n",
       "      <td>5.0</td>\n",
       "      <td>3.0</td>\n",
       "    </tr>\n",
       "    <tr>\n",
       "      <th>2</th>\n",
       "      <td>3.0</td>\n",
       "      <td>13.0</td>\n",
       "      <td>2.0</td>\n",
       "      <td>23.0</td>\n",
       "      <td>24.0</td>\n",
       "      <td>1.0</td>\n",
       "    </tr>\n",
       "    <tr>\n",
       "      <th>3</th>\n",
       "      <td>36.0</td>\n",
       "      <td>6.0</td>\n",
       "      <td>1.0</td>\n",
       "      <td>4.0</td>\n",
       "      <td>6.0</td>\n",
       "      <td>12.0</td>\n",
       "    </tr>\n",
       "    <tr>\n",
       "      <th>4</th>\n",
       "      <td>60.0</td>\n",
       "      <td>28.0</td>\n",
       "      <td>1.0</td>\n",
       "      <td>13.0</td>\n",
       "      <td>15.0</td>\n",
       "      <td>23.0</td>\n",
       "    </tr>\n",
       "    <tr>\n",
       "      <th>...</th>\n",
       "      <td>...</td>\n",
       "      <td>...</td>\n",
       "      <td>...</td>\n",
       "      <td>...</td>\n",
       "      <td>...</td>\n",
       "      <td>...</td>\n",
       "    </tr>\n",
       "    <tr>\n",
       "      <th>53935</th>\n",
       "      <td>29.0</td>\n",
       "      <td>15.0</td>\n",
       "      <td>270.0</td>\n",
       "      <td>21.0</td>\n",
       "      <td>24.0</td>\n",
       "      <td>13.0</td>\n",
       "    </tr>\n",
       "    <tr>\n",
       "      <th>53936</th>\n",
       "      <td>52.0</td>\n",
       "      <td>9.0</td>\n",
       "      <td>270.0</td>\n",
       "      <td>15.0</td>\n",
       "      <td>23.0</td>\n",
       "      <td>24.0</td>\n",
       "    </tr>\n",
       "    <tr>\n",
       "      <th>53937</th>\n",
       "      <td>65.0</td>\n",
       "      <td>25.0</td>\n",
       "      <td>546.0</td>\n",
       "      <td>28.0</td>\n",
       "      <td>38.0</td>\n",
       "      <td>30.0</td>\n",
       "    </tr>\n",
       "    <tr>\n",
       "      <th>53938</th>\n",
       "      <td>7.0</td>\n",
       "      <td>7.0</td>\n",
       "      <td>5.0</td>\n",
       "      <td>15.0</td>\n",
       "      <td>12.0</td>\n",
       "      <td>5.0</td>\n",
       "    </tr>\n",
       "    <tr>\n",
       "      <th>53939</th>\n",
       "      <td>41.0</td>\n",
       "      <td>3.0</td>\n",
       "      <td>107.0</td>\n",
       "      <td>19.0</td>\n",
       "      <td>26.0</td>\n",
       "      <td>21.0</td>\n",
       "    </tr>\n",
       "  </tbody>\n",
       "</table></div>"
      ],
      "text/plain": [
       "       depth  table  price     x     y     z\n",
       "0       36.0    4.0    1.0  13.0  15.0  11.0\n",
       "1        4.0    5.0    1.0   5.0   5.0   3.0\n",
       "2        3.0   13.0    2.0  23.0  24.0   1.0\n",
       "3       36.0    6.0    1.0   4.0   6.0  12.0\n",
       "4       60.0   28.0    1.0  13.0  15.0  23.0\n",
       "...      ...    ...    ...   ...   ...   ...\n",
       "53935   29.0   15.0  270.0  21.0  24.0  13.0\n",
       "53936   52.0    9.0  270.0  15.0  23.0  24.0\n",
       "53937   65.0   25.0  546.0  28.0  38.0  30.0\n",
       "53938    7.0    7.0    5.0  15.0  12.0   5.0\n",
       "53939   41.0    3.0  107.0  19.0  26.0  21.0\n",
       "\n",
       "[53940 rows x 6 columns]"
      ]
     },
     "execution_count": 321,
     "metadata": {},
     "output_type": "execute_result"
    }
   ],
   "source": [
    "diamonds.groupby('carat').rank(method='dense')"
   ]
  }
 ],
 "metadata": {
  "kernelspec": {
   "display_name": "Python 3.10.4 64-bit",
   "language": "python",
   "name": "python3"
  },
  "language_info": {
   "codemirror_mode": {
    "name": "ipython",
    "version": 3
   },
   "file_extension": ".py",
   "mimetype": "text/x-python",
   "name": "python",
   "nbconvert_exporter": "python",
   "pygments_lexer": "ipython3",
   "version": "3.10.4"
  },
  "orig_nbformat": 4,
  "vscode": {
   "interpreter": {
    "hash": "369f2c481f4da34e4445cda3fffd2e751bd1c4d706f27375911949ba6bb62e1c"
   }
  }
 },
 "nbformat": 4,
 "nbformat_minor": 2
}
